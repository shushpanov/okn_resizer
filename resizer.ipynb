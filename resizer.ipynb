{
 "cells": [
  {
   "cell_type": "markdown",
   "metadata": {},
   "source": [
    "# 1. Авторизация"
   ]
  },
  {
   "cell_type": "code",
   "execution_count": 3,
   "metadata": {},
   "outputs": [],
   "source": [
    "# https://developers.google.com/drive/api/v3/quickstart/python?hl=ru#prerequisites\n",
    "from google.oauth2 import service_account\n",
    "\n",
    "SCOPES = ['https://www.googleapis.com/auth/drive']\n",
    "SERVICE_ACCOUNT_FILE = 'account_file.json'\n",
    "\n",
    "credentials = service_account.Credentials.from_service_account_file(SERVICE_ACCOUNT_FILE, scopes=SCOPES)"
   ]
  },
  {
   "cell_type": "code",
   "execution_count": 4,
   "metadata": {},
   "outputs": [],
   "source": [
    "from googleapiclient.discovery import build\n",
    "\n",
    "service = build('drive', 'v3', credentials=credentials)"
   ]
  },
  {
   "cell_type": "markdown",
   "metadata": {},
   "source": [
    "# 2. Скачать все текущие изображения"
   ]
  },
  {
   "cell_type": "code",
   "execution_count": 11,
   "metadata": {},
   "outputs": [],
   "source": [
    "def get_files(service):\n",
    "    files = []\n",
    "    \n",
    "    results = service.files().list(\n",
    "        pageSize=1000, \n",
    "        fields=\"nextPageToken, files(id, name, mimeType)\",\n",
    "    ).execute()\n",
    "    nextPageToken = results.get('nextPageToken')\n",
    "    \n",
    "    for file in results['files']:\n",
    "        if file['mimeType'] == 'image/jpeg': # только изображения\n",
    "            files.append(file)\n",
    "            \n",
    "    while nextPageToken:\n",
    "        nextPage = service.files().list(\n",
    "            pageSize=1000, \n",
    "            fields=\"nextPageToken, files(id, name, mimeType)\", \n",
    "            pageToken=nextPageToken\n",
    "        ).execute()\n",
    "        nextPageToken = nextPage.get('nextPageToken')\n",
    "        \n",
    "        for file in nextPage['files']:\n",
    "            if file['mimeType'] == 'image/jpeg':\n",
    "                files.append(file)\n",
    "    return files"
   ]
  },
  {
   "cell_type": "code",
   "execution_count": 12,
   "metadata": {},
   "outputs": [],
   "source": [
    "files = get_files(service)"
   ]
  },
  {
   "cell_type": "code",
   "execution_count": 13,
   "metadata": {},
   "outputs": [
    {
     "data": {
      "text/plain": [
       "{'id': '1i0TZMCEbiS0O8U0yz-EFL-gzNO8mCJ6n',\n",
       " 'name': 'post-6-1543763308 - Игорь Жирнов.jpg',\n",
       " 'mimeType': 'image/jpeg'}"
      ]
     },
     "execution_count": 13,
     "metadata": {},
     "output_type": "execute_result"
    }
   ],
   "source": [
    "files[0]"
   ]
  },
  {
   "cell_type": "markdown",
   "metadata": {},
   "source": [
    "# 3. Изменить размер файла"
   ]
  },
  {
   "cell_type": "code",
   "execution_count": 17,
   "metadata": {},
   "outputs": [],
   "source": [
    "from PIL import Image\n",
    "from googleapiclient.http import MediaIoBaseDownload, MediaFileUpload\n",
    "import io\n",
    "\n",
    "\n",
    "def get_new_size(w, h):\n",
    "    n = 2000\n",
    "    if max(w, h) < 2000:\n",
    "        return w, h\n",
    "    if w > h:\n",
    "        return n, n * h // w\n",
    "    else:\n",
    "        return n * w // h, n\n",
    "\n",
    "def resize_image(service, name: str, id: str, **kwargs):\n",
    "    # download file\n",
    "    request = service.files().get_media(fileId=id)\n",
    "    fh = io.FileIO(name, 'wb')\n",
    "    downloader = MediaIoBaseDownload(fh, request)\n",
    "    \n",
    "    done = False\n",
    "    while done is False:\n",
    "        status, done = downloader.next_chunk()\n",
    "        print('Download %s' % name)\n",
    "      \n",
    "    # resize\n",
    "    im = Image.open(name)\n",
    "    print(im.size)\n",
    "    small_im = im.resize(get_new_size(*im.size))\n",
    "    print(small_im.size)\n",
    "    \n",
    "    # save small file\n",
    "    small_name = 'small.jpg'\n",
    "    small_fh = io.FileIO(small_name, 'wb')\n",
    "    small_im.save(small_fh)\n",
    "    media = MediaFileUpload(small_name, mimetype='image/jpeg')\n",
    "    service.files().update(fileId=id, media_body=media).execute()\n",
    "    \n",
    "    # delete old revisions\n",
    "    results = service.revisions().list(fileId=id).execute()\n",
    "    for revision in sorted(results['revisions'], key=lambda x: x['modifiedTime'])[:-1]:\n",
    "        revision_id = revision['id']\n",
    "        service.revisions().delete(revisionId=revision_id, fileId=id).execute()"
   ]
  },
  {
   "cell_type": "code",
   "execution_count": 19,
   "metadata": {},
   "outputs": [
    {
     "name": "stdout",
     "output_type": "stream",
     "text": [
      "Download post-6-1543763308 - Игорь Жирнов.jpg\n",
      "(1280, 1011)\n",
      "(1280, 1011)\n"
     ]
    }
   ],
   "source": [
    "for file in files:\n",
    "    resize_image(service, **file)\n",
    "    break"
   ]
  },
  {
   "cell_type": "code",
   "execution_count": null,
   "metadata": {},
   "outputs": [],
   "source": []
  }
 ],
 "metadata": {
  "kernelspec": {
   "display_name": "Python 3",
   "language": "python",
   "name": "python3"
  },
  "language_info": {
   "codemirror_mode": {
    "name": "ipython",
    "version": 3
   },
   "file_extension": ".py",
   "mimetype": "text/x-python",
   "name": "python",
   "nbconvert_exporter": "python",
   "pygments_lexer": "ipython3",
   "version": "3.7.4"
  }
 },
 "nbformat": 4,
 "nbformat_minor": 2
}
